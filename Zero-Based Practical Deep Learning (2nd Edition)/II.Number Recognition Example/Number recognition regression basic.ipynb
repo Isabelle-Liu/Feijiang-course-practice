{
 "cells": [
  {
   "cell_type": "code",
   "execution_count": 2,
   "metadata": {},
   "outputs": [],
   "source": [
    "import torch\n",
    "#a module that provides a set of pre-defined classes and functions for building neural networks\n",
    "from torch.nn import Linear\n",
    "#a module that provides a large number of pre-defined neural network functions like RelU\n",
    "import torch.nn.functional as F\n",
    "import os\n",
    "import numpy as np\n",
    "import matplotlib.pyplot as plt\n",
    "import torchvision"
   ]
  },
  {
   "cell_type": "code",
   "execution_count": 3,
   "metadata": {},
   "outputs": [],
   "source": [
    "#from torchvision import datasets, transforms\n",
    "# Define a transform to normalize the pixel values to have a mean of 0.5 and a standard deviation of 0.5\n",
    "#transform = transforms.Compose([transforms.ToTensor(),transforms.Normalize((0.5,), (0.5,))])\n",
    "# Define a data loader to load the data in batches\n",
    "#trainloader = torch.utils.data.DataLoader(trainset, batch_size=64, shuffle=True)\n"
   ]
  },
  {
   "attachments": {},
   "cell_type": "markdown",
   "metadata": {},
   "source": [
    "* Module: A base class for all neural network modules in PyTorch. It provides methods for defining and applying trainable parameters, as well as methods for performing forward and backward computation.\n",
    "* Linear: A class for defining a fully connected layer in a neural network. It applies a linear transformation to the input tensor, followed by an optional bias term.\n",
    "* Conv2d: A class for defining a 2D convolutional layer in a neural network. It applies a convolutional filter to the input tensor, followed by an optional bias term.\n",
    "* LSTM: A class for defining a long short-term memory (LSTM) layer in a neural network. It is commonly used for sequence modeling tasks, such as speech recognition and natural language processing."
   ]
  },
  {
   "cell_type": "code",
   "execution_count": 4,
   "metadata": {},
   "outputs": [
    {
     "data": {
      "image/png": "[encoded data removed]",
      "text/plain": [
       "<Figure size 200x200 with 1 Axes>"
      ]
     },
     "metadata": {},
     "output_type": "display_data"
    },
    {
     "name": "stdout",
     "output_type": "stream",
     "text": [
      "图像数据形状和对应数据为: torch.Size([28, 28])\n",
      "图像标签形状和对应数据为: 1 1\n",
      "\n",
      "打印第一个batch的第一个图像，对应标签数字为1\n"
     ]
    }
   ],
   "source": [
    "#define transform image to tensor\n",
    "transform=torchvision.transforms.ToTensor()\n",
    "\n",
    "#load dataset\n",
    "train_dataset=torchvision.datasets.MNIST(root='/Users/isabelleliu/Desktop/code practice',train=True, download=True, transform=transform)\n",
    "test_dataset=torchvision.datasets.MNIST(root='/Users/isabelleliu/Desktop/code practice', train=False, download=True, transform=transform)\n",
    "\n",
    "#get a sample\n",
    "image, label=train_dataset[99]\n",
    "\n",
    "plt.figure(figsize=(2,2))\n",
    "#the squeeze method to remove the batch dimension, which has size 1 in this case.\n",
    "#batch number always the first number\n",
    "plt.imshow(image.squeeze(),cmap=plt.cm.binary)\n",
    "plt.axis('on')\n",
    "plt.title('Label: %d' % label)\n",
    "plt.show()\n",
    "\n",
    "\n",
    "print(\"图像数据形状和对应数据为:\", image.squeeze().shape)\n",
    "print(\"图像标签形状和对应数据为:\", image.shape[0],label)\n",
    "print(\"\\n打印第一个batch的第一个图像，对应标签数字为{}\".format(label))"
   ]
  },
  {
   "cell_type": "code",
   "execution_count": 54,
   "metadata": {},
   "outputs": [
    {
     "data": {
      "text/plain": [
       "True"
      ]
     },
     "execution_count": 54,
     "metadata": {},
     "output_type": "execute_result"
    }
   ],
   "source": [
    "len(image.shape)==3"
   ]
  },
  {
   "cell_type": "code",
   "execution_count": 49,
   "metadata": {},
   "outputs": [
    {
     "data": {
      "text/plain": [
       "torch.Size([1, 784])"
      ]
     },
     "execution_count": 49,
     "metadata": {},
     "output_type": "execute_result"
    }
   ],
   "source": [
    "norm_img(image).shape"
   ]
  },
  {
   "cell_type": "code",
   "execution_count": 5,
   "metadata": {},
   "outputs": [],
   "source": [
    "#torch.nn.ReLU\n",
    "#the rectified linear activation function f(x) = max(0, x)\n",
    "import torch.nn as nn\n",
    "relu=nn.ReLU()\n",
    "x=torch.randn(10,20)\n",
    "y=relu(x)"
   ]
  },
  {
   "cell_type": "code",
   "execution_count": 50,
   "metadata": {},
   "outputs": [],
   "source": [
    "class MNIST(torch.nn.Module):\n",
    "    def __init__(self):\n",
    "        super(MNIST,self).__init__()\n",
    "        #define a full convolutional layer\n",
    "        self.fc=torch.nn.Linear(in_features=784,out_features=1)\n",
    "\n",
    "    def forward(self, inputs):\n",
    "        outputs=self.fc(inputs)\n",
    "        return outputs"
   ]
  },
  {
   "cell_type": "code",
   "execution_count": 62,
   "metadata": {},
   "outputs": [],
   "source": [
    "\n",
    "def norm_img(img):\n",
    "    #check input size as [batch_sizes,1,28,28]\n",
    "    assert len(img.shape)==4\n",
    "    batch_size=img.shape[0]\n",
    "    #image normalization\n",
    "    img=img/255\n",
    "    #reshape image to [batch size, H*W]\n",
    "    #reshape tensor into 2D\n",
    "    img=img.view(batch_size,-1)\n",
    "    return img\n",
    "\n",
    "\n",
    "def train(model):\n",
    "    #ser model as train mode\n",
    "    model.train()\n",
    "    #data loader\n",
    "    train_loader=torch.utils.data.DataLoader(train_dataset, batch_size=16, shuffle=True)\n",
    "    optimizer=torch.optim.SGD(model.parameters(),lr=0.001)\n",
    "    EPOCH_NUM=10\n",
    "    losses=[]\n",
    "    for epoch in range(EPOCH_NUM):\n",
    "        for batch, (images, labels) in enumerate(train_loader):\n",
    "            images=norm_img(images).float()\n",
    "            labels=labels.float()\n",
    "            optimizer.zero_grad()\n",
    "            #forward\n",
    "            predicts=model(images)\n",
    "            #loss\n",
    "            loss=F.mse_loss(predicts, labels)\n",
    "            avg_loss=torch.mean(loss)\n",
    "\n",
    "            if batch % 1000==0:\n",
    "                loss=avg_loss.item()\n",
    "                losses.append(loss)\n",
    "                print(\"epoch_id: {}, batch_id: {}, loss is: {}\".format(epoch, batch, loss))\n",
    "\n",
    "            avg_loss.backward()\n",
    "            optimizer.step()\n",
    "            \n",
    "    return losses\n",
    "\n",
    "\n"
   ]
  },
  {
   "cell_type": "code",
   "execution_count": 65,
   "metadata": {},
   "outputs": [
    {
     "name": "stderr",
     "output_type": "stream",
     "text": [
      "/var/folders/rz/cvwxv_893p7cj9rn8qdyqxlc0000gn/T/ipykernel_97643/2284491435.py:28: UserWarning: Using a target size (torch.Size([16])) that is different to the input size (torch.Size([16, 1])). This will likely lead to incorrect results due to broadcasting. Please ensure they have the same size.\n",
      "  loss=F.mse_loss(predicts, labels)\n"
     ]
    },
    {
     "name": "stdout",
     "output_type": "stream",
     "text": [
      "epoch_id: 0, batch_id: 0, loss is: 19.473312377929688\n",
      "epoch_id: 0, batch_id: 1000, loss is: 8.802263259887695\n",
      "epoch_id: 0, batch_id: 2000, loss is: 9.291022300720215\n",
      "epoch_id: 0, batch_id: 3000, loss is: 8.447379112243652\n",
      "epoch_id: 1, batch_id: 0, loss is: 8.59374713897705\n",
      "epoch_id: 1, batch_id: 1000, loss is: 4.977025508880615\n",
      "epoch_id: 1, batch_id: 2000, loss is: 9.113127708435059\n",
      "epoch_id: 1, batch_id: 3000, loss is: 6.414918899536133\n",
      "epoch_id: 2, batch_id: 0, loss is: 9.713109016418457\n",
      "epoch_id: 2, batch_id: 1000, loss is: 7.411218166351318\n",
      "epoch_id: 2, batch_id: 2000, loss is: 8.621190071105957\n",
      "epoch_id: 2, batch_id: 3000, loss is: 9.483983993530273\n",
      "epoch_id: 3, batch_id: 0, loss is: 8.306083679199219\n",
      "epoch_id: 3, batch_id: 1000, loss is: 8.734469413757324\n",
      "epoch_id: 3, batch_id: 2000, loss is: 8.018926620483398\n",
      "epoch_id: 3, batch_id: 3000, loss is: 8.860118865966797\n",
      "epoch_id: 4, batch_id: 0, loss is: 7.965662479400635\n",
      "epoch_id: 4, batch_id: 1000, loss is: 8.590780258178711\n",
      "epoch_id: 4, batch_id: 2000, loss is: 8.148680686950684\n",
      "epoch_id: 4, batch_id: 3000, loss is: 11.466938972473145\n",
      "epoch_id: 5, batch_id: 0, loss is: 8.27930736541748\n",
      "epoch_id: 5, batch_id: 1000, loss is: 7.241177082061768\n",
      "epoch_id: 5, batch_id: 2000, loss is: 10.339728355407715\n",
      "epoch_id: 5, batch_id: 3000, loss is: 5.012965202331543\n",
      "epoch_id: 6, batch_id: 0, loss is: 9.610371589660645\n",
      "epoch_id: 6, batch_id: 1000, loss is: 6.358560562133789\n",
      "epoch_id: 6, batch_id: 2000, loss is: 9.684823989868164\n",
      "epoch_id: 6, batch_id: 3000, loss is: 11.583499908447266\n",
      "epoch_id: 7, batch_id: 0, loss is: 6.73249626159668\n",
      "epoch_id: 7, batch_id: 1000, loss is: 7.515722751617432\n",
      "epoch_id: 7, batch_id: 2000, loss is: 7.378345966339111\n",
      "epoch_id: 7, batch_id: 3000, loss is: 8.144954681396484\n",
      "epoch_id: 8, batch_id: 0, loss is: 9.236099243164062\n",
      "epoch_id: 8, batch_id: 1000, loss is: 11.557138442993164\n",
      "epoch_id: 8, batch_id: 2000, loss is: 7.794628143310547\n",
      "epoch_id: 8, batch_id: 3000, loss is: 10.263729095458984\n",
      "epoch_id: 9, batch_id: 0, loss is: 6.905911445617676\n",
      "epoch_id: 9, batch_id: 1000, loss is: 11.165285110473633\n",
      "epoch_id: 9, batch_id: 2000, loss is: 7.672710418701172\n",
      "epoch_id: 9, batch_id: 3000, loss is: 9.901005744934082\n"
     ]
    }
   ],
   "source": [
    "#load model\n",
    "model=MNIST()\n",
    "loss_list=train(model)\n",
    "torch.save(model.state_dict(), 'mnistbostonsame.pth')"
   ]
  },
  {
   "cell_type": "code",
   "execution_count": 66,
   "metadata": {},
   "outputs": [
    {
     "data": {
      "image/png": "[encoded data removed]",
      "text/plain": [
       "<Figure size 1000x500 with 1 Axes>"
      ]
     },
     "metadata": {},
     "output_type": "display_data"
    }
   ],
   "source": [
    "def plot(loss_list):\n",
    "    plt.figure(figsize=(10,5))\n",
    "\n",
    "    freq=[i for i in range(len(loss_list))]\n",
    "    plt.plot(freq,loss_list,color='#e4007f', label=\"Train loss\")\n",
    "\n",
    "    # 绘制坐标轴和图例\n",
    "    plt.ylabel(\"loss\", fontsize='large')\n",
    "    plt.xlabel(\"freq\", fontsize='large')\n",
    "    plt.legend(loc='upper right', fontsize='x-large')\n",
    "    \n",
    "    plt.show()\n",
    "\n",
    "plot(loss_list)"
   ]
  },
  {
   "attachments": {},
   "cell_type": "markdown",
   "metadata": {},
   "source": [
    "* The DataLoader reads in data as [batch_size, 1, image_height, image_width] because it is designed to work with convolutional neural networks (CNNs) which typically take in inputs of this shape.\n",
    "\n",
    "* The extra dimension of size 1 is added because CNNs expect inputs to have a certain number of channels, and grayscale images (such as the MNIST digits) have only one channel.\n",
    "\n",
    "* The batch size dimension is added to enable efficient batch processing during training, where multiple input images are processed simultaneously in parallel to speed up the training process."
   ]
  },
  {
   "cell_type": "code",
   "execution_count": 68,
   "metadata": {},
   "outputs": [
    {
     "data": {
      "image/png": "[encoded data removed]",
      "text/plain": [
       "<Figure size 200x200 with 1 Axes>"
      ]
     },
     "metadata": {},
     "output_type": "display_data"
    },
    {
     "name": "stdout",
     "output_type": "stream",
     "text": [
      "图像数据形状和对应数据为: torch.Size([28, 28])\n",
      "图像标签形状和对应数据为: 1 7\n",
      "\n",
      "打印第一个batch的第一个图像，对应标签数字为7\n"
     ]
    }
   ],
   "source": [
    "#test\n",
    "#get a sample\n",
    "image, label=test_dataset[0]\n",
    "\n",
    "plt.figure(figsize=(2,2))\n",
    "#the squeeze method to remove the batch dimension, which has size 1 in this case.\n",
    "#batch number always the first number\n",
    "plt.imshow(image.squeeze(),cmap=plt.cm.binary)\n",
    "plt.axis('on')\n",
    "plt.title('Label: %d' % label)\n",
    "plt.show()\n",
    "\n",
    "\n",
    "print(\"图像数据形状和对应数据为:\", image.squeeze().shape)\n",
    "print(\"图像标签形状和对应数据为:\", image.shape[0],label)\n",
    "print(\"\\n打印第一个batch的第一个图像，对应标签数字为{}\".format(label))"
   ]
  },
  {
   "cell_type": "code",
   "execution_count": 69,
   "metadata": {},
   "outputs": [
    {
     "data": {
      "text/plain": [
       "torch.Size([1, 28, 28])"
      ]
     },
     "execution_count": 69,
     "metadata": {},
     "output_type": "execute_result"
    }
   ],
   "source": [
    "image.shape"
   ]
  },
  {
   "cell_type": "code",
   "execution_count": 101,
   "metadata": {},
   "outputs": [
    {
     "name": "stdout",
     "output_type": "stream",
     "text": [
      "Accuracy of the network on the test images: 9 %\n"
     ]
    }
   ],
   "source": [
    "# evaluate the model on the test dataset\n",
    "num_correct = 0\n",
    "num_total = 0\n",
    "for images, labels in test_loader:\n",
    "    # normalize images\n",
    "    images = norm_img(images).float()\n",
    "    \n",
    "    # forward pass\n",
    "    outputs = model(images)\n",
    "    \n",
    "    # compute predicted labels\n",
    "    _, predicted = torch.max(outputs.data, 1)\n",
    "    \n",
    "    # update number of correct predictions\n",
    "    num_correct += (predicted == labels).sum().item()\n",
    "    \n",
    "    # update total number of images\n",
    "    num_total += labels.size(0)\n",
    "\n",
    "# print the accuracy\n",
    "print('Accuracy of the network on the test images: %d %%' % (100 * num_correct / num_total))\n",
    "\n"
   ]
  },
  {
   "attachments": {},
   "cell_type": "markdown",
   "metadata": {},
   "source": [
    "torch.max() is a PyTorch function that returns the maximum element of a tensor along a given dimension. It takes a tensor as input and returns a tuple of (values, indices) where values is the maximum value of the tensor along the specified dimension and indices is the index location of the maximum value."
   ]
  },
  {
   "cell_type": "code",
   "execution_count": 102,
   "metadata": {},
   "outputs": [
    {
     "name": "stdout",
     "output_type": "stream",
     "text": [
      "Accuracy of the model is 9.80% \n"
     ]
    }
   ],
   "source": [
    "model=MNIST()\n",
    "param_dict=torch.load('mnistbostonsame.pth')\n",
    "model.load_state_dict(param_dict)\n",
    "model.eval()\n",
    "test_loader=torch.utils.data.DataLoader(test_dataset, batch_size=16, shuffle=False)\n",
    "accuracy=0\n",
    "for batch, (images, labels) in enumerate(test_loader):\n",
    "    images=norm_img(images).float()\n",
    "    labels=labels.float()\n",
    "    predicts=model(images)\n",
    "    #the indices of the maximum value of tensor predicts\n",
    "    predicted_labels=torch.argmax(predicts,dim=1)\n",
    "    accuracy += (predicted_labels == labels).sum().item()\n",
    "\n",
    "\n",
    "result= accuracy/len(test_dataset)*100\n",
    "print(\"Accuracy of the model is {:.2f}% \".format(result))"
   ]
  },
  {
   "attachments": {},
   "cell_type": "markdown",
   "metadata": {},
   "source": [
    "* torch.argmax() returns the index of the maximum value in a tensor along a specified dimension. In the given code, it is used to obtain the predicted class labels for the test images. The torch.max() function returns the maximum values and their corresponding indices along a given dimension. In this case, torch.max() is used to obtain the predicted class scores and their corresponding indices along the second dimension. The torch.argmax() function is then used to obtain the index of the maximum class score, which corresponds to the predicted class label. The output of torch.argmax(predicts, dim=1) is a tensor containing the predicted labels of each image in the batch."
   ]
  },
  {
   "attachments": {},
   "cell_type": "markdown",
   "metadata": {},
   "source": [
    "* the output of the model is a tensor containing the scores or probabilities for each class. The index of the maximum score/probability along the dimension corresponding to the classes is the predicted class label."
   ]
  },
  {
   "cell_type": "code",
   "execution_count": 113,
   "metadata": {},
   "outputs": [
    {
     "data": {
      "image/png": "[encoded data removed]",
      "text/plain": [
       "<Figure size 200x200 with 1 Axes>"
      ]
     },
     "metadata": {},
     "output_type": "display_data"
    }
   ],
   "source": [
    "import matplotlib.pyplot as plt\n",
    "\n",
    "# Load the first image from the test dataset\n",
    "test_image, test_label = test_dataset[0]\n",
    "\n",
    "# Normalize and reshape the image\n",
    "test_image = norm_img(test_image.reshape(1, 1, 28, 28)).float()\n",
    "\n",
    "# Make a prediction using the trained model\n",
    "model.eval()\n",
    "with torch.no_grad():\n",
    "    output = model(test_image.unsqueeze(0))\n",
    "predicted_label = torch.argmax(output)\n",
    "\n",
    "# Display the image and predicted label\n",
    "plt.figure(figsize=(2,2))\n",
    "plt.imshow(test_image.view(28, 28), cmap=plt.cm.binary)\n",
    "plt.title(f'Predicted label: {predicted_label.item()}')\n",
    "plt.show()\n"
   ]
  },
  {
   "attachments": {},
   "cell_type": "markdown",
   "metadata": {},
   "source": [
    "* test_image.unsqueeze(0) is a PyTorch function that returns a new tensor with a dimension of size one inserted at the specified position. In this case, test_image.unsqueeze(0) adds an extra dimension to the test_image tensor at position 0, effectively creating a tensor of shape [1, 1, 28, 28]\n",
    "\n",
    "* torch.no_grad() is a context manager that allows for the code to skip gradient computation and memory optimization when performing inference with a trained model. When this context manager is active, any code within it will not track any changes to tensors that occur during the computations, which can speed up inference time and save memory.\n",
    "\n",
    "During inference, we don't need to compute gradients or update model parameters. Therefore, we can use torch.no_grad() to disable gradient tracking and improve the inference speed. "
   ]
  },
  {
   "cell_type": "code",
   "execution_count": null,
   "metadata": {},
   "outputs": [],
   "source": []
  }
 ],
 "metadata": {
  "kernelspec": {
   "display_name": "Python 3",
   "language": "python",
   "name": "python3"
  },
  "language_info": {
   "codemirror_mode": {
    "name": "ipython",
    "version": 3
   },
   "file_extension": ".py",
   "mimetype": "text/x-python",
   "name": "python",
   "nbconvert_exporter": "python",
   "pygments_lexer": "ipython3",
   "version": "3.11.3"
  },
  "orig_nbformat": 4
 },
 "nbformat": 4,
 "nbformat_minor": 2
}
